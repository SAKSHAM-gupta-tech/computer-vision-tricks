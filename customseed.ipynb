{
 "cells": [
  {
   "cell_type": "code",
   "execution_count": 3,
   "metadata": {},
   "outputs": [],
   "source": [
    "#Custom Seeds with the WaterShed Algorithm\n",
    "import numpy as np\n",
    "import cv2\n",
    "import matplotlib.pyplot as plt\n",
    "%matplotlib inline"
   ]
  },
  {
   "cell_type": "code",
   "execution_count": 4,
   "metadata": {},
   "outputs": [],
   "source": [
    "road = cv2.imread('DATA/road_image.jpg')"
   ]
  },
  {
   "cell_type": "code",
   "execution_count": 5,
   "metadata": {},
   "outputs": [],
   "source": [
    "road_copy = np.copy(road)"
   ]
  },
  {
   "cell_type": "code",
   "execution_count": 6,
   "metadata": {},
   "outputs": [],
   "source": [
    "#plt.imshow(road)\n",
    "#no color conv as we dontuse matplotlib using opencv"
   ]
  },
  {
   "cell_type": "code",
   "execution_count": 7,
   "metadata": {},
   "outputs": [
    {
     "data": {
      "text/plain": [
       "(600, 800)"
      ]
     },
     "execution_count": 7,
     "metadata": {},
     "output_type": "execute_result"
    }
   ],
   "source": [
    "road.shape[:2]"
   ]
  },
  {
   "cell_type": "code",
   "execution_count": 8,
   "metadata": {},
   "outputs": [],
   "source": [
    "marker_image = np.zeros(road.shape[:2],dtype=np.int32)"
   ]
  },
  {
   "cell_type": "code",
   "execution_count": 9,
   "metadata": {},
   "outputs": [],
   "source": [
    "segments = np.zeros(road.shape,dtype = np.uint8)"
   ]
  },
  {
   "cell_type": "code",
   "execution_count": 10,
   "metadata": {},
   "outputs": [
    {
     "data": {
      "text/plain": [
       "(600, 800)"
      ]
     },
     "execution_count": 10,
     "metadata": {},
     "output_type": "execute_result"
    }
   ],
   "source": [
    "marker_image.shape"
   ]
  },
  {
   "cell_type": "code",
   "execution_count": 11,
   "metadata": {},
   "outputs": [
    {
     "data": {
      "text/plain": [
       "(600, 800, 3)"
      ]
     },
     "execution_count": 11,
     "metadata": {},
     "output_type": "execute_result"
    }
   ],
   "source": [
    "segments.shape"
   ]
  },
  {
   "cell_type": "code",
   "execution_count": 12,
   "metadata": {},
   "outputs": [],
   "source": [
    "#Create colors for Markers\n",
    "from matplotlib import cm"
   ]
  },
  {
   "cell_type": "code",
   "execution_count": 13,
   "metadata": {},
   "outputs": [
    {
     "data": {
      "text/plain": [
       "(0.12156862745098039, 0.4666666666666667, 0.7058823529411765, 1.0)"
      ]
     },
     "execution_count": 13,
     "metadata": {},
     "output_type": "execute_result"
    }
   ],
   "source": [
    "cm.tab10(0)"
   ]
  },
  {
   "cell_type": "code",
   "execution_count": 14,
   "metadata": {},
   "outputs": [
    {
     "data": {
      "text/plain": [
       "array([0.12156863, 0.46666667, 0.70588235, 1.        ])"
      ]
     },
     "execution_count": 14,
     "metadata": {},
     "output_type": "execute_result"
    }
   ],
   "source": [
    "np.array(cm.tab10(0))"
   ]
  },
  {
   "cell_type": "code",
   "execution_count": 15,
   "metadata": {},
   "outputs": [
    {
     "data": {
      "text/plain": [
       "array([0.12156863, 0.46666667, 0.70588235])"
      ]
     },
     "execution_count": 15,
     "metadata": {},
     "output_type": "execute_result"
    }
   ],
   "source": [
    "np.array(cm.tab10(0))[:3]"
   ]
  },
  {
   "cell_type": "code",
   "execution_count": 16,
   "metadata": {},
   "outputs": [
    {
     "data": {
      "text/plain": [
       "array([ 31., 119., 180.])"
      ]
     },
     "execution_count": 16,
     "metadata": {},
     "output_type": "execute_result"
    }
   ],
   "source": [
    "np.array(cm.tab10(0))[:3]*255"
   ]
  },
  {
   "cell_type": "code",
   "execution_count": 17,
   "metadata": {},
   "outputs": [],
   "source": [
    "x = np.array(cm.tab10(0))[:3]*255"
   ]
  },
  {
   "cell_type": "code",
   "execution_count": 18,
   "metadata": {},
   "outputs": [
    {
     "data": {
      "text/plain": [
       "array([ 31, 119, 180])"
      ]
     },
     "execution_count": 18,
     "metadata": {},
     "output_type": "execute_result"
    }
   ],
   "source": [
    "x.astype(int)"
   ]
  },
  {
   "cell_type": "code",
   "execution_count": 19,
   "metadata": {},
   "outputs": [
    {
     "data": {
      "text/plain": [
       "(31, 119, 180)"
      ]
     },
     "execution_count": 19,
     "metadata": {},
     "output_type": "execute_result"
    }
   ],
   "source": [
    "tuple(x.astype(int))"
   ]
  },
  {
   "cell_type": "code",
   "execution_count": 20,
   "metadata": {},
   "outputs": [],
   "source": [
    "#Let's make a function for all those steps\n",
    "def create_rgb(i):\n",
    "    x = np.array(cm.tab10(i))[:3]*255\n",
    "    return tuple(x)"
   ]
  },
  {
   "cell_type": "code",
   "execution_count": 21,
   "metadata": {},
   "outputs": [],
   "source": [
    "colors = []"
   ]
  },
  {
   "cell_type": "code",
   "execution_count": 22,
   "metadata": {},
   "outputs": [],
   "source": [
    "# One color for each single digit\n",
    "for i in range(10):\n",
    "    colors.append(create_rgb(i))"
   ]
  },
  {
   "cell_type": "code",
   "execution_count": 23,
   "metadata": {},
   "outputs": [],
   "source": [
    "# Numbers 0-9\n",
    "n_markers = 10"
   ]
  },
  {
   "cell_type": "code",
   "execution_count": 24,
   "metadata": {},
   "outputs": [],
   "source": [
    "#Setting Up Callback Function\n",
    "# Default settings\n",
    "current_marker = 1\n",
    "marks_updated = False"
   ]
  },
  {
   "cell_type": "code",
   "execution_count": 25,
   "metadata": {},
   "outputs": [],
   "source": [
    "def mouse_callback(event, x, y, flags, param):\n",
    "    global marks_updated \n",
    "\n",
    "    if event == cv2.EVENT_LBUTTONDOWN:\n",
    "        \n",
    "        # TRACKING FOR MARKERS\n",
    "        cv2.circle(marker_image, (x, y), 10, (current_marker), -1)\n",
    "        \n",
    "        # DISPLAY ON USER IMAGE\n",
    "        cv2.circle(road_copy, (x, y), 10, colors[current_marker], -1)\n",
    "        marks_updated = True\n"
   ]
  },
  {
   "cell_type": "code",
   "execution_count": null,
   "metadata": {},
   "outputs": [],
   "source": [
    "cv2.namedWindow('Road Image')\n",
    "cv2.setMouseCallback('Road Image', mouse_callback)\n",
    "\n",
    "while True:\n",
    "    \n",
    "    # SHow the 2 windows\n",
    "    cv2.imshow('WaterShed Segments', segments)\n",
    "    cv2.imshow('Road Image', road_copy)\n",
    "        \n",
    "        \n",
    "    # Close everything if Esc is pressed\n",
    "    k = cv2.waitKey(1)\n",
    "\n",
    "    if k == 27:\n",
    "        break\n",
    "    # Clear all colors and start over if 'c' is pressed\n",
    "    elif k == ord('c'):\n",
    "        road_copy = road.copy()\n",
    "        marker_image = np.zeros(road.shape[0:2], dtype=np.int32)\n",
    "        segments = np.zeros(road.shape,dtype=np.uint8)\n",
    "        \n",
    "    # If a number 0-9 is chosen index the color\n",
    "    elif k > 0 and chr(k).isdigit():\n",
    "        # chr converts to printable digit\n",
    "        \n",
    "        current_marker  = int(chr(k))\n",
    "        \n",
    "        # CODE TO CHECK INCASE USER IS CARELESS\n",
    "#         n = int(chr(k))\n",
    "#         if 1 <= n <= n_markers:\n",
    "#             current_marker = n\n",
    "    \n",
    "    # If we clicked somewhere, call the watershed algorithm \n",
    "    #on our chosen markers\n",
    "    if marks_updated:\n",
    "        \n",
    "        marker_image_copy = marker_image.copy()\n",
    "        cv2.watershed(road, marker_image_copy)\n",
    "        \n",
    "        segments = np.zeros(road.shape,dtype=np.uint8)\n",
    "        \n",
    "        for color_ind in range(n_markers):\n",
    "            segments[marker_image_copy == (color_ind)] = colors[color_ind]\n",
    "        \n",
    "        marks_updated = False\n",
    "        \n",
    "cv2.destroyAllWindows()"
   ]
  },
  {
   "cell_type": "code",
   "execution_count": null,
   "metadata": {},
   "outputs": [],
   "source": []
  }
 ],
 "metadata": {
  "kernelspec": {
   "display_name": "Python 3",
   "language": "python",
   "name": "python3"
  },
  "language_info": {
   "codemirror_mode": {
    "name": "ipython",
    "version": 3
   },
   "file_extension": ".py",
   "mimetype": "text/x-python",
   "name": "python",
   "nbconvert_exporter": "python",
   "pygments_lexer": "ipython3",
   "version": "3.6.6"
  }
 },
 "nbformat": 4,
 "nbformat_minor": 2
}
